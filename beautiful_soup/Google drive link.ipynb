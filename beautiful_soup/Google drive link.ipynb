{
 "cells": [
  {
   "cell_type": "code",
   "execution_count": 1,
   "metadata": {},
   "outputs": [],
   "source": [
    "import requests\n",
    "import urllib.request\n",
    "import time\n",
    "from bs4 import BeautifulSoup"
   ]
  },
  {
   "cell_type": "code",
   "execution_count": 2,
   "metadata": {},
   "outputs": [],
   "source": [
    "url = 'https://bbmp.gov.in/MahalakshmiLayout.html'"
   ]
  },
  {
   "cell_type": "code",
   "execution_count": 3,
   "metadata": {},
   "outputs": [],
   "source": [
    "response = requests.get(url)"
   ]
  },
  {
   "cell_type": "code",
   "execution_count": 4,
   "metadata": {},
   "outputs": [],
   "source": [
    "soup = BeautifulSoup(response.text, \"html.parser\")\n",
    "soup"
   ]
  },
  {
   "cell_type": "code",
   "execution_count": 6,
   "metadata": {},
   "outputs": [
    {
     "data": {
      "text/plain": [
       "[<a href=\"MahalakshmiLayout.html\">English</a>,\n",
       " <a href=\"MahalakshmiLayout_kan.html\">à²à²¨à³à²¨à²¡</a>,\n",
       " <a href=\"indexenglish.html\"><img alt=\"\" id=\"logo\" src=\"images/bbmplogo.png\"/></a>,\n",
       " <a href=\"https://nammabengaluru.org.in/login\" target=\"_blank\"><i class=\"fas fa-circle\" style=\"font-size: 7px;color: lightgray;\"></i> Sahaaya 2.0 <h6 style=\"font-size: 13px;\"></h6> </a>,\n",
       " <a class=\"wht\" href=\"https://api.whatsapp.com/send?phone=+919480685700\" target=\"_blank\"><i class=\"fab fa-whatsapp\" style=\"color: #4FCE5D;font-size: 18px;\"></i> 9480685700</a>,\n",
       " <a href=\"tel:080-22660000\"><i class=\"fas fa-phone\" style=\"font-size: 15px;\"></i> 080-22660000</a>,\n",
       " <a href=\"indexenglish.html\">Home</a>,\n",
       " <a href=\"election.html\">Election</a>,\n",
       " <a href=\"bengaluru_north.html\">Bengaluru North</a>,\n",
       " <a href=\"https://drive.google.com/drive/folders/1OUxSSLKSaNLo_wQajK22JXVBuXJ4hQDP?usp=sharing\" style=\"text-decoration:none;pading-top:10px;color:black\" target=\"_blank\">Nandini Layout</a>,\n",
       " <a href=\"https://drive.google.com/drive/folders/17L9IwPxsbi6zkgjX-zfeVcMGuC1DJFE8?usp=sharing\" style=\"text-decoration:none;pading-top:10px;color:black\" target=\"_blank\">\tMarappana Palya</a>,\n",
       " <a href=\"https://drive.google.com/drive/folders/1wQcUL_1MHb3U-HRqFGvwEQbLV7k33y0D?usp=sharing\" style=\"text-decoration:none;pading-top:10px;color:black\" target=\"_blank\">\tNagapura\n",
       " </a>,\n",
       " <a href=\"https://drive.google.com/drive/folders/1LQLaN2I0irs7ic9TcoVKWbZBIR6q9DG2?usp=sharing\" style=\"text-decoration:none;pading-top:10px;color:black\" target=\"_blank\">\tMaruthi Nagar</a>,\n",
       " <a href=\"https://drive.google.com/drive/folders/1iGxkvhuv01JnE3XdBdq56JwAV35pa964?usp=sharing\" style=\"text-decoration:none;pading-top:10px;color:black\" target=\"_blank\">\t\tShakthi Ganapathi Nagar</a>,\n",
       " <a href=\"https://drive.google.com/drive/folders/1Byj1j5Xaz8Tc1Y2Cnng9TEoRrgWnbXOR?usp=sharing\" style=\"text-decoration:none;pading-top:10px;color:black\" target=\"_blank\">\tShankar Matt</a>,\n",
       " <a href=\"https://drive.google.com/drive/folders/17lS4szQ-NhT1J5gN4AnJ0Lpi2NJMiE6r?usp=sharing\" style=\"text-decoration:none;pading-top:10px;color:black\" target=\"_blank\">\tVrisabhavathi Nagar</a>]"
      ]
     },
     "execution_count": 6,
     "metadata": {},
     "output_type": "execute_result"
    }
   ],
   "source": [
    "soup.findAll('a')"
   ]
  },
  {
   "cell_type": "markdown",
   "metadata": {},
   "source": [
    "## Here we get all google drive links related to Mahalakshmi Layout"
   ]
  },
  {
   "cell_type": "code",
   "execution_count": 7,
   "metadata": {},
   "outputs": [],
   "source": [
    "one_a_tag = soup.findAll('a')[10]"
   ]
  },
  {
   "cell_type": "markdown",
   "metadata": {},
   "source": [
    "## One of the link to check"
   ]
  },
  {
   "cell_type": "code",
   "execution_count": 8,
   "metadata": {},
   "outputs": [
    {
     "data": {
      "text/plain": [
       "'https://drive.google.com/drive/folders/17L9IwPxsbi6zkgjX-zfeVcMGuC1DJFE8?usp=sharing'"
      ]
     },
     "execution_count": 8,
     "metadata": {},
     "output_type": "execute_result"
    }
   ],
   "source": [
    "link = one_a_tag['href']\n",
    "link"
   ]
  },
  {
   "cell_type": "code",
   "execution_count": 9,
   "metadata": {},
   "outputs": [],
   "source": []
  },
  {
   "cell_type": "code",
   "execution_count": null,
   "metadata": {},
   "outputs": [],
   "source": []
  }
 ],
 "metadata": {
  "kernelspec": {
   "display_name": "Python 3",
   "language": "python",
   "name": "python3"
  },
  "language_info": {
   "codemirror_mode": {
    "name": "ipython",
    "version": 3
   },
   "file_extension": ".py",
   "mimetype": "text/x-python",
   "name": "python",
   "nbconvert_exporter": "python",
   "pygments_lexer": "ipython3",
   "version": "3.7.6"
  }
 },
 "nbformat": 4,
 "nbformat_minor": 4
}
